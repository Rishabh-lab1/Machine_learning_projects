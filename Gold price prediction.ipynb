{
 "cells": [
  {
   "cell_type": "code",
   "execution_count": 11,
   "metadata": {},
   "outputs": [
    {
     "name": "stderr",
     "output_type": "stream",
     "text": [
      "<frozen importlib._bootstrap>:219: RuntimeWarning: numpy.ufunc size changed, may indicate binary incompatibility. Expected 192 from C header, got 216 from PyObject\n"
     ]
    }
   ],
   "source": [
    "#Importing libarary that I am using in this project\n",
    "%matplotlib inline\n",
    "\n",
    "import numpy as np\n",
    "import pandas as pd\n",
    "import matplotlib.pyplot as plt\n",
    "import seaborn as sns\n",
    "from sklearn.model_selection import train_test_split\n",
    "from sklearn.ensemble import RandomForestRegressor\n",
    "from sklearn import metrics\n"
   ]
  },
  {
   "cell_type": "markdown",
   "metadata": {},
   "source": [
    "###### Data collection and processing"
   ]
  },
  {
   "cell_type": "code",
   "execution_count": 12,
   "metadata": {},
   "outputs": [],
   "source": [
    "dataset=pd.read_csv('gld_price_data.csv')"
   ]
  },
  {
   "cell_type": "code",
   "execution_count": 13,
   "metadata": {},
   "outputs": [
    {
     "data": {
      "text/html": [
       "<div>\n",
       "<style scoped>\n",
       "    .dataframe tbody tr th:only-of-type {\n",
       "        vertical-align: middle;\n",
       "    }\n",
       "\n",
       "    .dataframe tbody tr th {\n",
       "        vertical-align: top;\n",
       "    }\n",
       "\n",
       "    .dataframe thead th {\n",
       "        text-align: right;\n",
       "    }\n",
       "</style>\n",
       "<table border=\"1\" class=\"dataframe\">\n",
       "  <thead>\n",
       "    <tr style=\"text-align: right;\">\n",
       "      <th></th>\n",
       "      <th>Date</th>\n",
       "      <th>SPX</th>\n",
       "      <th>GLD</th>\n",
       "      <th>USO</th>\n",
       "      <th>SLV</th>\n",
       "      <th>EUR/USD</th>\n",
       "    </tr>\n",
       "  </thead>\n",
       "  <tbody>\n",
       "    <tr>\n",
       "      <th>0</th>\n",
       "      <td>1/2/2008</td>\n",
       "      <td>1447.160034</td>\n",
       "      <td>84.860001</td>\n",
       "      <td>78.470001</td>\n",
       "      <td>15.180</td>\n",
       "      <td>1.471692</td>\n",
       "    </tr>\n",
       "    <tr>\n",
       "      <th>1</th>\n",
       "      <td>1/3/2008</td>\n",
       "      <td>1447.160034</td>\n",
       "      <td>85.570000</td>\n",
       "      <td>78.370003</td>\n",
       "      <td>15.285</td>\n",
       "      <td>1.474491</td>\n",
       "    </tr>\n",
       "    <tr>\n",
       "      <th>2</th>\n",
       "      <td>1/4/2008</td>\n",
       "      <td>1411.630005</td>\n",
       "      <td>85.129997</td>\n",
       "      <td>77.309998</td>\n",
       "      <td>15.167</td>\n",
       "      <td>1.475492</td>\n",
       "    </tr>\n",
       "    <tr>\n",
       "      <th>3</th>\n",
       "      <td>1/7/2008</td>\n",
       "      <td>1416.180054</td>\n",
       "      <td>84.769997</td>\n",
       "      <td>75.500000</td>\n",
       "      <td>15.053</td>\n",
       "      <td>1.468299</td>\n",
       "    </tr>\n",
       "    <tr>\n",
       "      <th>4</th>\n",
       "      <td>1/8/2008</td>\n",
       "      <td>1390.189941</td>\n",
       "      <td>86.779999</td>\n",
       "      <td>76.059998</td>\n",
       "      <td>15.590</td>\n",
       "      <td>1.557099</td>\n",
       "    </tr>\n",
       "  </tbody>\n",
       "</table>\n",
       "</div>"
      ],
      "text/plain": [
       "       Date          SPX        GLD        USO     SLV   EUR/USD\n",
       "0  1/2/2008  1447.160034  84.860001  78.470001  15.180  1.471692\n",
       "1  1/3/2008  1447.160034  85.570000  78.370003  15.285  1.474491\n",
       "2  1/4/2008  1411.630005  85.129997  77.309998  15.167  1.475492\n",
       "3  1/7/2008  1416.180054  84.769997  75.500000  15.053  1.468299\n",
       "4  1/8/2008  1390.189941  86.779999  76.059998  15.590  1.557099"
      ]
     },
     "execution_count": 13,
     "metadata": {},
     "output_type": "execute_result"
    }
   ],
   "source": [
    "dataset.head()"
   ]
  },
  {
   "cell_type": "code",
   "execution_count": 14,
   "metadata": {},
   "outputs": [
    {
     "data": {
      "text/html": [
       "<div>\n",
       "<style scoped>\n",
       "    .dataframe tbody tr th:only-of-type {\n",
       "        vertical-align: middle;\n",
       "    }\n",
       "\n",
       "    .dataframe tbody tr th {\n",
       "        vertical-align: top;\n",
       "    }\n",
       "\n",
       "    .dataframe thead th {\n",
       "        text-align: right;\n",
       "    }\n",
       "</style>\n",
       "<table border=\"1\" class=\"dataframe\">\n",
       "  <thead>\n",
       "    <tr style=\"text-align: right;\">\n",
       "      <th></th>\n",
       "      <th>Date</th>\n",
       "      <th>SPX</th>\n",
       "      <th>GLD</th>\n",
       "      <th>USO</th>\n",
       "      <th>SLV</th>\n",
       "      <th>EUR/USD</th>\n",
       "    </tr>\n",
       "  </thead>\n",
       "  <tbody>\n",
       "    <tr>\n",
       "      <th>2285</th>\n",
       "      <td>5/8/2018</td>\n",
       "      <td>2671.919922</td>\n",
       "      <td>124.589996</td>\n",
       "      <td>14.0600</td>\n",
       "      <td>15.5100</td>\n",
       "      <td>1.186789</td>\n",
       "    </tr>\n",
       "    <tr>\n",
       "      <th>2286</th>\n",
       "      <td>5/9/2018</td>\n",
       "      <td>2697.790039</td>\n",
       "      <td>124.330002</td>\n",
       "      <td>14.3700</td>\n",
       "      <td>15.5300</td>\n",
       "      <td>1.184722</td>\n",
       "    </tr>\n",
       "    <tr>\n",
       "      <th>2287</th>\n",
       "      <td>5/10/2018</td>\n",
       "      <td>2723.070068</td>\n",
       "      <td>125.180000</td>\n",
       "      <td>14.4100</td>\n",
       "      <td>15.7400</td>\n",
       "      <td>1.191753</td>\n",
       "    </tr>\n",
       "    <tr>\n",
       "      <th>2288</th>\n",
       "      <td>5/14/2018</td>\n",
       "      <td>2730.129883</td>\n",
       "      <td>124.489998</td>\n",
       "      <td>14.3800</td>\n",
       "      <td>15.5600</td>\n",
       "      <td>1.193118</td>\n",
       "    </tr>\n",
       "    <tr>\n",
       "      <th>2289</th>\n",
       "      <td>5/16/2018</td>\n",
       "      <td>2725.780029</td>\n",
       "      <td>122.543800</td>\n",
       "      <td>14.4058</td>\n",
       "      <td>15.4542</td>\n",
       "      <td>1.182033</td>\n",
       "    </tr>\n",
       "  </tbody>\n",
       "</table>\n",
       "</div>"
      ],
      "text/plain": [
       "           Date          SPX         GLD      USO      SLV   EUR/USD\n",
       "2285   5/8/2018  2671.919922  124.589996  14.0600  15.5100  1.186789\n",
       "2286   5/9/2018  2697.790039  124.330002  14.3700  15.5300  1.184722\n",
       "2287  5/10/2018  2723.070068  125.180000  14.4100  15.7400  1.191753\n",
       "2288  5/14/2018  2730.129883  124.489998  14.3800  15.5600  1.193118\n",
       "2289  5/16/2018  2725.780029  122.543800  14.4058  15.4542  1.182033"
      ]
     },
     "execution_count": 14,
     "metadata": {},
     "output_type": "execute_result"
    }
   ],
   "source": [
    "dataset.tail()"
   ]
  },
  {
   "cell_type": "markdown",
   "metadata": {},
   "source": [
    "SPX=the Standard & Poor's 500 Index , GLD=Gold price, USO=US oil price , SLV=silver price "
   ]
  },
  {
   "cell_type": "code",
   "execution_count": 18,
   "metadata": {},
   "outputs": [
    {
     "data": {
      "text/plain": [
       "(2290, 6)"
      ]
     },
     "execution_count": 18,
     "metadata": {},
     "output_type": "execute_result"
    }
   ],
   "source": [
    "# Shape of dataset\n",
    "dataset.shape"
   ]
  },
  {
   "cell_type": "markdown",
   "metadata": {},
   "source": [
    "Total data of 10 years."
   ]
  },
  {
   "cell_type": "code",
   "execution_count": 7,
   "metadata": {},
   "outputs": [
    {
     "data": {
      "text/plain": [
       "Date       0\n",
       "SPX        0\n",
       "GLD        0\n",
       "USO        0\n",
       "SLV        0\n",
       "EUR/USD    0\n",
       "dtype: int64"
      ]
     },
     "execution_count": 7,
     "metadata": {},
     "output_type": "execute_result"
    }
   ],
   "source": [
    "dataset.isnull().sum()"
   ]
  },
  {
   "cell_type": "code",
   "execution_count": 19,
   "metadata": {},
   "outputs": [
    {
     "data": {
      "text/html": [
       "<div>\n",
       "<style scoped>\n",
       "    .dataframe tbody tr th:only-of-type {\n",
       "        vertical-align: middle;\n",
       "    }\n",
       "\n",
       "    .dataframe tbody tr th {\n",
       "        vertical-align: top;\n",
       "    }\n",
       "\n",
       "    .dataframe thead th {\n",
       "        text-align: right;\n",
       "    }\n",
       "</style>\n",
       "<table border=\"1\" class=\"dataframe\">\n",
       "  <thead>\n",
       "    <tr style=\"text-align: right;\">\n",
       "      <th></th>\n",
       "      <th>SPX</th>\n",
       "      <th>GLD</th>\n",
       "      <th>USO</th>\n",
       "      <th>SLV</th>\n",
       "      <th>EUR/USD</th>\n",
       "    </tr>\n",
       "  </thead>\n",
       "  <tbody>\n",
       "    <tr>\n",
       "      <th>count</th>\n",
       "      <td>2290.000000</td>\n",
       "      <td>2290.000000</td>\n",
       "      <td>2290.000000</td>\n",
       "      <td>2290.000000</td>\n",
       "      <td>2290.000000</td>\n",
       "    </tr>\n",
       "    <tr>\n",
       "      <th>mean</th>\n",
       "      <td>1654.315776</td>\n",
       "      <td>122.732875</td>\n",
       "      <td>31.842221</td>\n",
       "      <td>20.084997</td>\n",
       "      <td>1.283653</td>\n",
       "    </tr>\n",
       "    <tr>\n",
       "      <th>std</th>\n",
       "      <td>519.111540</td>\n",
       "      <td>23.283346</td>\n",
       "      <td>19.523517</td>\n",
       "      <td>7.092566</td>\n",
       "      <td>0.131547</td>\n",
       "    </tr>\n",
       "    <tr>\n",
       "      <th>min</th>\n",
       "      <td>676.530029</td>\n",
       "      <td>70.000000</td>\n",
       "      <td>7.960000</td>\n",
       "      <td>8.850000</td>\n",
       "      <td>1.039047</td>\n",
       "    </tr>\n",
       "    <tr>\n",
       "      <th>25%</th>\n",
       "      <td>1239.874969</td>\n",
       "      <td>109.725000</td>\n",
       "      <td>14.380000</td>\n",
       "      <td>15.570000</td>\n",
       "      <td>1.171313</td>\n",
       "    </tr>\n",
       "    <tr>\n",
       "      <th>50%</th>\n",
       "      <td>1551.434998</td>\n",
       "      <td>120.580002</td>\n",
       "      <td>33.869999</td>\n",
       "      <td>17.268500</td>\n",
       "      <td>1.303296</td>\n",
       "    </tr>\n",
       "    <tr>\n",
       "      <th>75%</th>\n",
       "      <td>2073.010070</td>\n",
       "      <td>132.840004</td>\n",
       "      <td>37.827501</td>\n",
       "      <td>22.882499</td>\n",
       "      <td>1.369971</td>\n",
       "    </tr>\n",
       "    <tr>\n",
       "      <th>max</th>\n",
       "      <td>2872.870117</td>\n",
       "      <td>184.589996</td>\n",
       "      <td>117.480003</td>\n",
       "      <td>47.259998</td>\n",
       "      <td>1.598798</td>\n",
       "    </tr>\n",
       "  </tbody>\n",
       "</table>\n",
       "</div>"
      ],
      "text/plain": [
       "               SPX          GLD          USO          SLV      EUR/USD\n",
       "count  2290.000000  2290.000000  2290.000000  2290.000000  2290.000000\n",
       "mean   1654.315776   122.732875    31.842221    20.084997     1.283653\n",
       "std     519.111540    23.283346    19.523517     7.092566     0.131547\n",
       "min     676.530029    70.000000     7.960000     8.850000     1.039047\n",
       "25%    1239.874969   109.725000    14.380000    15.570000     1.171313\n",
       "50%    1551.434998   120.580002    33.869999    17.268500     1.303296\n",
       "75%    2073.010070   132.840004    37.827501    22.882499     1.369971\n",
       "max    2872.870117   184.589996   117.480003    47.259998     1.598798"
      ]
     },
     "execution_count": 19,
     "metadata": {},
     "output_type": "execute_result"
    }
   ],
   "source": [
    "#getting statstical measures of the data\n",
    "dataset.describe()"
   ]
  },
  {
   "cell_type": "markdown",
   "metadata": {},
   "source": [
    "Correlation between various column of the dataset\n",
    "\n",
    "1-Positive correlation : positive correlation describes the relationship between two variables that change together.\n",
    "\n",
    "2-Negatiove correlation : inverse correlation describes the relationship between two variables which change in opposing directions. Inverse correlation is sometimes described as negative correlation."
   ]
  },
  {
   "cell_type": "code",
   "execution_count": 20,
   "metadata": {},
   "outputs": [],
   "source": [
    "correlation=dataset.corr()"
   ]
  },
  {
   "cell_type": "code",
   "execution_count": 25,
   "metadata": {},
   "outputs": [
    {
     "data": {
      "text/plain": [
       "<matplotlib.axes._subplots.AxesSubplot at 0x7f1d176c4850>"
      ]
     },
     "execution_count": 25,
     "metadata": {},
     "output_type": "execute_result"
    },
    {
     "data": {
      "image/png": "[encoded data removed]",
      "text/plain": [
       "<Figure size 576x576 with 2 Axes>"
      ]
     },
     "metadata": {
      "needs_background": "light"
     },
     "output_type": "display_data"
    }
   ],
   "source": [
    "# constructing the heatmap to understand the correlation\n",
    "plt.figure(figsize=(8,8))\n",
    "sns.heatmap(correlation,cbar=True,square=True,fmt='.1f',annot=True,annot_kws={'size':8},cmap='Blues')"
   ]
  },
  {
   "cell_type": "code",
   "execution_count": 26,
   "metadata": {},
   "outputs": [
    {
     "name": "stdout",
     "output_type": "stream",
     "text": [
      "SPX        0.049345\n",
      "GLD        1.000000\n",
      "USO       -0.186360\n",
      "SLV        0.866632\n",
      "EUR/USD   -0.024375\n",
      "Name: GLD, dtype: float64\n"
     ]
    }
   ],
   "source": [
    "#correllation of GLD\n",
    "\n",
    "print(correlation['GLD'])"
   ]
  },
  {
   "cell_type": "code",
   "execution_count": 29,
   "metadata": {},
   "outputs": [
    {
     "data": {
      "text/plain": [
       "<matplotlib.axes._subplots.AxesSubplot at 0x7f1d112af0d0>"
      ]
     },
     "execution_count": 29,
     "metadata": {},
     "output_type": "execute_result"
    },
    {
     "data": {
      "image/png": "[encoded data removed]",
      "text/plain": [
       "<Figure size 432x288 with 1 Axes>"
      ]
     },
     "metadata": {
      "needs_background": "light"
     },
     "output_type": "display_data"
    }
   ],
   "source": [
    "# checking the distribution of the GLD price \n",
    "sns.distplot(dataset['GLD'],color='green')"
   ]
  },
  {
   "cell_type": "markdown",
   "metadata": {},
   "source": [
    "###### Splitting the features and target data\n"
   ]
  },
  {
   "cell_type": "code",
   "execution_count": 32,
   "metadata": {},
   "outputs": [],
   "source": [
    "X=dataset.drop(['Date','GLD'],axis=1)\n",
    "Y=dataset['GLD']"
   ]
  },
  {
   "cell_type": "code",
   "execution_count": 33,
   "metadata": {},
   "outputs": [
    {
     "name": "stdout",
     "output_type": "stream",
     "text": [
      "              SPX        USO      SLV   EUR/USD\n",
      "0     1447.160034  78.470001  15.1800  1.471692\n",
      "1     1447.160034  78.370003  15.2850  1.474491\n",
      "2     1411.630005  77.309998  15.1670  1.475492\n",
      "3     1416.180054  75.500000  15.0530  1.468299\n",
      "4     1390.189941  76.059998  15.5900  1.557099\n",
      "...           ...        ...      ...       ...\n",
      "2285  2671.919922  14.060000  15.5100  1.186789\n",
      "2286  2697.790039  14.370000  15.5300  1.184722\n",
      "2287  2723.070068  14.410000  15.7400  1.191753\n",
      "2288  2730.129883  14.380000  15.5600  1.193118\n",
      "2289  2725.780029  14.405800  15.4542  1.182033\n",
      "\n",
      "[2290 rows x 4 columns]\n",
      "0        84.860001\n",
      "1        85.570000\n",
      "2        85.129997\n",
      "3        84.769997\n",
      "4        86.779999\n",
      "           ...    \n",
      "2285    124.589996\n",
      "2286    124.330002\n",
      "2287    125.180000\n",
      "2288    124.489998\n",
      "2289    122.543800\n",
      "Name: GLD, Length: 2290, dtype: float64\n"
     ]
    }
   ],
   "source": [
    "print(X)\n",
    "print(Y)"
   ]
  },
  {
   "cell_type": "code",
   "execution_count": 34,
   "metadata": {},
   "outputs": [],
   "source": [
    "#spliting traing and test data\n",
    "\n",
    "X_train,X_test,Y_train,Y_test=train_test_split(X,Y,test_size=0.2,random_state=0)"
   ]
  },
  {
   "cell_type": "markdown",
   "metadata": {},
   "source": [
    "##### Model training  : Random Forest Regressor"
   ]
  },
  {
   "cell_type": "code",
   "execution_count": 35,
   "metadata": {},
   "outputs": [],
   "source": [
    "regressor=RandomForestRegressor(n_estimators=100)"
   ]
  },
  {
   "cell_type": "code",
   "execution_count": 36,
   "metadata": {},
   "outputs": [
    {
     "data": {
      "text/plain": [
       "RandomForestRegressor()"
      ]
     },
     "execution_count": 36,
     "metadata": {},
     "output_type": "execute_result"
    }
   ],
   "source": [
    "regressor.fit(X_train,Y_train)"
   ]
  },
  {
   "cell_type": "code",
   "execution_count": 37,
   "metadata": {},
   "outputs": [],
   "source": [
    "# Model evaluation\n",
    "\n",
    "test_data_prediction=regressor.predict(X_test)"
   ]
  },
  {
   "cell_type": "code",
   "execution_count": 38,
   "metadata": {},
   "outputs": [
    {
     "name": "stdout",
     "output_type": "stream",
     "text": [
      "[126.97519889 116.7920994  139.62800124 121.84810026  94.19250028\n",
      " 155.29040076 117.7532014  113.34940133 153.42520059 105.6571012\n",
      " 103.21389854 119.84090077  92.33199908 158.98260202 121.55099859\n",
      " 117.40460097  86.72629844  92.01019943  93.01759994 125.72459986\n",
      "  83.55529935 117.61949894 126.46919814 173.43779736 169.46769746\n",
      " 139.87640279 114.29679953 159.88760191 134.02330041 115.7742003\n",
      " 111.09630089 104.67610167 128.37390098 122.12949986  98.85579989\n",
      " 120.11209957  84.33410031 115.07639993 127.372499   139.99089923\n",
      " 107.60020069 131.55750071 107.98909947 135.37940021 133.89509907\n",
      " 149.20099892 119.70353869 157.00670064 156.45700103 127.59789951\n",
      " 123.46210001 115.5698984  123.95190094 118.92229981 153.73580029\n",
      " 121.44719945 112.44050032  86.94829963 155.40430028 117.80090128\n",
      "  87.95819883 114.67370021  83.32279945 146.55809786 125.33570028\n",
      " 127.37329768 125.1497992  121.03819984 168.23940174 121.71609911\n",
      " 125.68390182 173.32189777 121.65020111 169.53790143 119.16970046\n",
      " 127.09859967 154.11699886 108.34779718 114.40899942 160.61759873\n",
      " 119.78300056 125.50789798 117.39469927 123.22070018 112.08220032\n",
      " 160.72949999 114.67159979 113.64259969 125.34289816  96.08369992\n",
      " 113.60879962 114.0713014   80.72959889 159.67759933 125.71820033\n",
      " 119.03650084  92.05969986 104.92340168 143.48960204  92.63479804\n",
      " 155.5943036  122.06410008 123.44549996 115.25609965  87.94150037\n",
      " 130.30959969 125.34890004 167.40770179 109.21550045 166.68579895\n",
      " 103.96760011 139.63679874 115.46050145 119.76360032  93.81619982\n",
      " 166.63640175 113.66950033 109.00689931  83.21449968 109.70879947\n",
      " 155.42900139  90.67309959  74.76510051 121.86169974 102.94420034\n",
      " 116.97559897 121.45020053 134.57039969 119.62959983 105.84809949\n",
      " 106.92859908 111.99659933  93.24869958 122.8177987  119.52480013\n",
      " 113.10860099  73.67019999 126.77050022  82.18459933 115.34599967\n",
      " 116.87909907 153.22560306 139.32549948 114.68390056 165.80250224\n",
      " 130.24420092 124.74670027 118.83210108 124.38539913 122.10280041\n",
      " 160.94489935 107.14820104 117.02289921  87.33799907 122.86960161\n",
      " 112.13699977  85.05579906 113.95629957 117.44250059  86.4009996\n",
      " 132.46949934 146.28809948 134.7745046  115.80110022 128.04990059\n",
      " 118.59950029  98.06750081 117.19610127 114.86410119 118.73859885\n",
      " 156.009402   122.36269932  90.42000016 121.03650057 105.35439979\n",
      " 121.73783852 105.73899919 107.14990127 120.82449871 125.16210127\n",
      "  88.24979873 173.176199   120.54090145 118.1533396  164.02609873\n",
      " 119.98430202 110.27199918 128.48020054 132.11510168 120.37429906\n",
      " 118.38410025 142.61560328 148.24280001 116.98859968 156.10380371\n",
      " 136.145601   124.18019981 124.99959856 179.58689794 119.46830231\n",
      " 162.8166033  103.08560164 132.20400168  92.74459936  97.54919813\n",
      "  90.19510097 106.49590041 112.28449982 163.42420016 160.63090005\n",
      " 153.31680355 113.09740081 116.49810145 119.00880123 119.82930059\n",
      "  91.50480143 102.0960001  154.80339913 108.64169818 102.67669898\n",
      " 156.05820014  76.22189946 120.43560074 168.6474971  115.99159964\n",
      " 144.47640011 154.96790072 140.14919955 153.98899871 131.44670335\n",
      " 130.54030018 124.04449993 116.01660132 135.25329763 163.48410038\n",
      " 154.11610102 126.98890098 160.75119829 130.18400068 108.62619838\n",
      " 166.9528996  117.90229833  84.70099925 163.94290249 153.29050038\n",
      " 116.44020156 129.7429003   92.38729846  91.11230106 112.47229902\n",
      "  87.75129978 114.65979941 119.07100054 153.58989994 116.844699\n",
      " 106.95950102 117.70729959 139.36079926 110.91109929 122.39779964\n",
      "  83.46289912 125.0059002  125.85810055 167.83329977 127.01350005\n",
      " 142.85629811 117.34260094 168.12720043 106.77209885 174.00780033\n",
      " 109.66619858 115.0103018   88.32229865 125.42550019 117.52559997\n",
      " 153.40480286 162.11789896  80.44599941 105.2763995  110.45219934\n",
      " 110.69669869 108.12760002 118.0562011   89.69559967  88.84229893\n",
      "  84.65420006 137.54709795 127.33500024 119.91960086  96.10800075\n",
      " 109.35269842  78.56069975  72.79340172 119.27510076 118.45410061\n",
      "  89.71879937 111.44970119 117.53549915 118.0044014  124.42190049\n",
      " 146.84119936  87.80799953 129.1274992  117.60590058 154.58190216\n",
      " 107.83209911 145.17840227 124.40859897 116.17950008 113.73329869\n",
      " 125.2694997  135.60240007 140.5604996  117.31209991 128.214399\n",
      "  93.76179863 114.36649934  89.36980005  89.38930099 106.46370073\n",
      " 132.28340174 153.14429904 161.60460171 118.85040037 103.83559956\n",
      " 100.14820099 150.24179785 152.61189812 106.38470096 137.97700117\n",
      " 119.09279941 126.27799822  87.77340051 172.48429962 117.54499862\n",
      " 137.90870269 115.00189973  86.03980005 120.7131002  136.07740124\n",
      " 117.70570075 140.15449926 118.84570063 165.98970052 121.31210065\n",
      " 123.2027985  121.0305983  126.82020117  88.01200062 146.37370325\n",
      " 114.30729976 110.95669977 113.66380096 155.40990248  93.24370129\n",
      "  92.51979983 119.99570116 156.46560266 119.10310098 155.70500326\n",
      " 126.4630007  161.1679974  123.85120005 131.47130033 123.08139996\n",
      "  74.29710014  94.32589993  90.11729996 121.11480136 113.53250066\n",
      " 117.60149967 108.23560015 126.02620008 126.24490155 122.45700009\n",
      " 120.41559963 104.07409901 109.6671987  110.35290107 149.10050419\n",
      " 126.13209851 156.1704005  125.83980115 142.31979975 140.99390059\n",
      " 108.30909896 109.681398   128.92830315 107.56559892 116.67499966\n",
      " 120.50380101 144.5760997   93.68059988 104.00690027 128.46140163\n",
      " 124.34169958 163.51069989 121.33760052 148.9191038  110.87169912\n",
      " 125.24540081  89.0407003   80.79149885 127.36449853 125.94240087\n",
      " 147.56510293 119.94229867 127.55909833  86.69959924 124.84239937\n",
      " 118.68459966 115.62319834 102.08159909 121.86570071  93.68409893\n",
      " 102.77769884 123.8623996  114.82490018 126.62470055  90.27540009\n",
      " 120.01090093 108.93949897 120.74890023 130.46780135  87.0859992\n",
      " 123.47009965 101.85850027  99.27490129 102.82299991  89.77309942\n",
      " 120.69680089 124.07739993 170.84459809 125.85640025  95.41650125\n",
      " 160.47860461 108.45849905  96.89029948 131.81379973 113.33100033\n",
      "  87.2628987  168.00939932  89.58049998  90.38169928 167.33599789\n",
      " 159.71330348 165.73990163 168.69989606 125.6295982  127.3451992\n",
      " 122.15329936  91.41539903 121.48659988 120.30900086 129.18639878\n",
      " 160.02279943 116.73500006 108.49099922]\n"
     ]
    }
   ],
   "source": [
    "print(test_data_prediction)"
   ]
  },
  {
   "cell_type": "code",
   "execution_count": 39,
   "metadata": {},
   "outputs": [],
   "source": [
    "# for compare between actual value with predicted value: R squared error\n",
    "error_score=metrics.r2_score(Y_test,test_data_prediction)"
   ]
  },
  {
   "cell_type": "code",
   "execution_count": 40,
   "metadata": {},
   "outputs": [
    {
     "name": "stdout",
     "output_type": "stream",
     "text": [
      "R-squared error 0.9897484715529399\n"
     ]
    }
   ],
   "source": [
    "print(\"R-squared error\",error_score)"
   ]
  },
  {
   "cell_type": "code",
   "execution_count": 42,
   "metadata": {},
   "outputs": [],
   "source": [
    "# compare actual value and predicted with plot\n",
    "Y_test=list(Y_test)"
   ]
  },
  {
   "cell_type": "code",
   "execution_count": 45,
   "metadata": {},
   "outputs": [
    {
     "data": {
      "image/png": "[encoded data removed]",
      "text/plain": [
       "<Figure size 432x288 with 1 Axes>"
      ]
     },
     "metadata": {
      "needs_background": "light"
     },
     "output_type": "display_data"
    }
   ],
   "source": [
    "plt.plot(Y_test,color='blue',label='Actual Value')\n",
    "plt.plot(test_data_prediction,color='red',label='Predicted value')\n",
    "plt.title('Actual Value vs Predicted values')\n",
    "plt.xlabel(\"No of values\")\n",
    "plt.ylabel('GLD Price')\n",
    "plt.legend()\n",
    "plt.show()"
   ]
  },
  {
   "cell_type": "code",
   "execution_count": null,
   "metadata": {},
   "outputs": [],
   "source": []
  }
 ],
 "metadata": {
  "kernelspec": {
   "display_name": "Python 3",
   "language": "python",
   "name": "python3"
  },
  "language_info": {
   "codemirror_mode": {
    "name": "ipython",
    "version": 3
   },
   "file_extension": ".py",
   "mimetype": "text/x-python",
   "name": "python",
   "nbconvert_exporter": "python",
   "pygments_lexer": "ipython3",
   "version": "3.8.3"
  }
 },
 "nbformat": 4,
 "nbformat_minor": 4
}
